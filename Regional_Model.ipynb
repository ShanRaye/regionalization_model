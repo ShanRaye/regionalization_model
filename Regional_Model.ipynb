{
 "cells": [
  {
   "cell_type": "code",
   "execution_count": 1,
   "metadata": {
    "jupyter": {
     "outputs_hidden": true
    },
    "slideshow": {
     "slide_type": "subslide"
    }
   },
   "outputs": [
    {
     "name": "stderr",
     "output_type": "stream",
     "text": [
      "/Users/shannagreathouse/opt/anaconda3/lib/python3.8/site-packages/geopandas/_compat.py:106: UserWarning: The Shapely GEOS version (3.8.0-CAPI-1.13.1 ) is incompatible with the GEOS version PyGEOS was compiled with (3.9.1-CAPI-1.14.2). Conversions between both will be slow.\n",
      "  warnings.warn(\n"
     ]
    }
   ],
   "source": [
    "# Import libraries\n",
    "%matplotlib inline\n",
    "\n",
    "import datetime\n",
    "import os\n",
    "import seaborn as sns\n",
    "import matplotlib.pyplot as plt\n",
    "import numpy as np\n",
    "import pandas as pd\n",
    "#import pysal as ps\n",
    "import geopandas as gpd\n",
    "from sklearn import cluster\n",
    "from sklearn.preprocessing import scale\n",
    "\n",
    "sns.set(style=\"whitegrid\")"
   ]
  },
  {
   "cell_type": "code",
   "execution_count": 2,
   "metadata": {},
   "outputs": [],
   "source": [
    "import pysal as ps"
   ]
  },
  {
   "cell_type": "code",
   "execution_count": 3,
   "metadata": {},
   "outputs": [],
   "source": [
    "# Import data\n",
    "broker_data = 'data/Brokered2018_zipcodes.csv'\n",
    "coord = 'data/states.json'\n"
   ]
  },
  {
   "cell_type": "code",
   "execution_count": 4,
   "metadata": {},
   "outputs": [
    {
     "data": {
      "text/html": [
       "<div>\n",
       "<style scoped>\n",
       "    .dataframe tbody tr th:only-of-type {\n",
       "        vertical-align: middle;\n",
       "    }\n",
       "\n",
       "    .dataframe tbody tr th {\n",
       "        vertical-align: top;\n",
       "    }\n",
       "\n",
       "    .dataframe thead th {\n",
       "        text-align: right;\n",
       "    }\n",
       "</style>\n",
       "<table border=\"1\" class=\"dataframe\">\n",
       "  <thead>\n",
       "    <tr style=\"text-align: right;\">\n",
       "      <th></th>\n",
       "      <th>Order #</th>\n",
       "      <th>Leg #</th>\n",
       "      <th>Start Date</th>\n",
       "      <th>Agent Office</th>\n",
       "      <th>Cust ID</th>\n",
       "      <th>Customer</th>\n",
       "      <th>Carrier ID</th>\n",
       "      <th>Carrier</th>\n",
       "      <th>Origin City</th>\n",
       "      <th>OriginState</th>\n",
       "      <th>Destination City</th>\n",
       "      <th>Destination State</th>\n",
       "      <th>Brokered Revenue</th>\n",
       "      <th>Carrier Pay</th>\n",
       "      <th>Brokered Margin</th>\n",
       "      <th>Brokered Margin %</th>\n",
       "      <th>Booking Agent ID</th>\n",
       "      <th>Booking Agent</th>\n",
       "    </tr>\n",
       "  </thead>\n",
       "  <tbody>\n",
       "    <tr>\n",
       "      <th>0</th>\n",
       "      <td>1361713</td>\n",
       "      <td>1349039</td>\n",
       "      <td>8/15/18</td>\n",
       "      <td>1</td>\n",
       "      <td>AMNP</td>\n",
       "      <td>AMNP</td>\n",
       "      <td>43708</td>\n",
       "      <td>43708</td>\n",
       "      <td>San Antonio</td>\n",
       "      <td>Texas</td>\n",
       "      <td>Palmyra</td>\n",
       "      <td>Wisconsin</td>\n",
       "      <td>$2,500.00</td>\n",
       "      <td>$2,400.00</td>\n",
       "      <td>$100.00</td>\n",
       "      <td>4.00%</td>\n",
       "      <td>KAILA</td>\n",
       "      <td>1</td>\n",
       "    </tr>\n",
       "    <tr>\n",
       "      <th>1</th>\n",
       "      <td>1501026</td>\n",
       "      <td>1542730</td>\n",
       "      <td>1/30/18</td>\n",
       "      <td>1</td>\n",
       "      <td>AMNP</td>\n",
       "      <td>AMNP</td>\n",
       "      <td>442007</td>\n",
       "      <td>442007</td>\n",
       "      <td>Hammond</td>\n",
       "      <td>Indiana</td>\n",
       "      <td>Denver</td>\n",
       "      <td>Colorado</td>\n",
       "      <td>$3,050.00</td>\n",
       "      <td>$2,950.00</td>\n",
       "      <td>$100.00</td>\n",
       "      <td>3.27%</td>\n",
       "      <td>KAILA</td>\n",
       "      <td>1</td>\n",
       "    </tr>\n",
       "    <tr>\n",
       "      <th>2</th>\n",
       "      <td>1518714</td>\n",
       "      <td>1567360</td>\n",
       "      <td>1/5/18</td>\n",
       "      <td>1</td>\n",
       "      <td>AMNP</td>\n",
       "      <td>AMNP</td>\n",
       "      <td>971955</td>\n",
       "      <td>971955</td>\n",
       "      <td>Denver</td>\n",
       "      <td>Colorado</td>\n",
       "      <td>Meridian</td>\n",
       "      <td>Idaho</td>\n",
       "      <td>$1,200.00</td>\n",
       "      <td>$1,200.00</td>\n",
       "      <td>$-</td>\n",
       "      <td>0.00%</td>\n",
       "      <td>ZABCA</td>\n",
       "      <td>2</td>\n",
       "    </tr>\n",
       "    <tr>\n",
       "      <th>3</th>\n",
       "      <td>1538821</td>\n",
       "      <td>1595101</td>\n",
       "      <td>4/2/18</td>\n",
       "      <td>1</td>\n",
       "      <td>AMNP</td>\n",
       "      <td>AMNP</td>\n",
       "      <td>355478</td>\n",
       "      <td>355478</td>\n",
       "      <td>Jewett</td>\n",
       "      <td>Texas</td>\n",
       "      <td>Hartford</td>\n",
       "      <td>South Dakota</td>\n",
       "      <td>$2,000.00</td>\n",
       "      <td>$1,900.00</td>\n",
       "      <td>$100.00</td>\n",
       "      <td>5.00%</td>\n",
       "      <td>KAILA</td>\n",
       "      <td>1</td>\n",
       "    </tr>\n",
       "    <tr>\n",
       "      <th>4</th>\n",
       "      <td>1601007</td>\n",
       "      <td>1680031</td>\n",
       "      <td>8/22/18</td>\n",
       "      <td>1</td>\n",
       "      <td>AMNP</td>\n",
       "      <td>AMNP</td>\n",
       "      <td>184749</td>\n",
       "      <td>184749</td>\n",
       "      <td>Bismarck</td>\n",
       "      <td>North Dakota</td>\n",
       "      <td>Marion</td>\n",
       "      <td>Ohio</td>\n",
       "      <td>$2,300.00</td>\n",
       "      <td>$2,200.00</td>\n",
       "      <td>$100.00</td>\n",
       "      <td>4.34%</td>\n",
       "      <td>KAILA</td>\n",
       "      <td>1</td>\n",
       "    </tr>\n",
       "  </tbody>\n",
       "</table>\n",
       "</div>"
      ],
      "text/plain": [
       "   Order #    Leg # Start Date  Agent Office Cust ID Customer Carrier ID  \\\n",
       "0  1361713  1349039    8/15/18             1    AMNP     AMNP      43708   \n",
       "1  1501026  1542730    1/30/18             1    AMNP     AMNP     442007   \n",
       "2  1518714  1567360     1/5/18             1    AMNP     AMNP     971955   \n",
       "3  1538821  1595101     4/2/18             1    AMNP     AMNP     355478   \n",
       "4  1601007  1680031    8/22/18             1    AMNP     AMNP     184749   \n",
       "\n",
       "  Carrier    Origin City   OriginState Destination City Destination State  \\\n",
       "0   43708   San Antonio          Texas         Palmyra          Wisconsin   \n",
       "1  442007       Hammond        Indiana          Denver           Colorado   \n",
       "2  971955        Denver       Colorado        Meridian              Idaho   \n",
       "3  355478        Jewett          Texas        Hartford       South Dakota   \n",
       "4  184749      Bismarck   North Dakota          Marion               Ohio   \n",
       "\n",
       "  Brokered Revenue Carrier Pay Brokered Margin Brokered Margin %  \\\n",
       "0       $2,500.00   $2,400.00         $100.00              4.00%   \n",
       "1       $3,050.00   $2,950.00         $100.00              3.27%   \n",
       "2       $1,200.00   $1,200.00            $-                0.00%   \n",
       "3       $2,000.00   $1,900.00         $100.00              5.00%   \n",
       "4       $2,300.00   $2,200.00         $100.00              4.34%   \n",
       "\n",
       "  Booking Agent ID  Booking Agent  \n",
       "0            KAILA              1  \n",
       "1            KAILA              1  \n",
       "2            ZABCA              2  \n",
       "3            KAILA              1  \n",
       "4            KAILA              1  "
      ]
     },
     "execution_count": 4,
     "metadata": {},
     "output_type": "execute_result"
    }
   ],
   "source": [
    "# Read data\n",
    "broker = pd.read_csv(broker_data)\n",
    "broker.head()"
   ]
  },
  {
   "cell_type": "code",
   "execution_count": 5,
   "metadata": {},
   "outputs": [],
   "source": [
    "broker['Start Date'] =  pd.to_datetime(broker['Start Date'])"
   ]
  },
  {
   "cell_type": "code",
   "execution_count": 6,
   "metadata": {
    "scrolled": true
   },
   "outputs": [
    {
     "name": "stdout",
     "output_type": "stream",
     "text": [
      "0        2018-08-15\n",
      "1        2018-01-30\n",
      "2        2018-01-05\n",
      "3        2018-04-02\n",
      "4        2018-08-22\n",
      "            ...    \n",
      "213739   2021-05-28\n",
      "213740   2021-05-28\n",
      "213741   2021-05-31\n",
      "213742   2021-05-31\n",
      "213743   2021-05-31\n",
      "Name: Start Date, Length: 213744, dtype: datetime64[ns]\n"
     ]
    }
   ],
   "source": [
    "print(broker['Start Date'])"
   ]
  },
  {
   "cell_type": "code",
   "execution_count": 15,
   "metadata": {},
   "outputs": [
    {
     "data": {
      "text/plain": [
       "Timestamp('2021-05-31 00:00:00')"
      ]
     },
     "execution_count": 15,
     "metadata": {},
     "output_type": "execute_result"
    }
   ],
   "source": [
    "# Find the max date in the data set for rolling 12 month\n",
    "endDate = broker['Start Date'].max()\n",
    "endDate"
   ]
  },
  {
   "cell_type": "code",
   "execution_count": 16,
   "metadata": {},
   "outputs": [
    {
     "data": {
      "text/plain": [
       "Timestamp('2020-05-31 00:00:00')"
      ]
     },
     "execution_count": 16,
     "metadata": {},
     "output_type": "execute_result"
    }
   ],
   "source": [
    "# Rolling date start point\n",
    "startDate = endDate - pd.DateOffset(years=1)\n",
    "startDate"
   ]
  },
  {
   "cell_type": "code",
   "execution_count": 17,
   "metadata": {},
   "outputs": [
    {
     "name": "stdout",
     "output_type": "stream",
     "text": [
      "Order #\n",
      "Leg #\n",
      "Start Date\n",
      "Agent Office\n",
      "Cust ID\n",
      "Customer\n",
      "Carrier ID\n",
      "Carrier\n",
      "Origin City\n",
      "NAME\n",
      "Destination City\n",
      "Destination State\n",
      "Brokered Revenue\n",
      "Carrier Pay\n",
      "Brokered Margin\n",
      "Brokered Margin %\n",
      "Booking Agent ID\n",
      "Booking Agent\n"
     ]
    },
    {
     "name": "stderr",
     "output_type": "stream",
     "text": [
      "/Users/shannagreathouse/opt/anaconda3/lib/python3.8/site-packages/pandas/core/frame.py:4296: SettingWithCopyWarning: \n",
      "A value is trying to be set on a copy of a slice from a DataFrame\n",
      "\n",
      "See the caveats in the documentation: https://pandas.pydata.org/pandas-docs/stable/user_guide/indexing.html#returning-a-view-versus-a-copy\n",
      "  return super().rename(\n"
     ]
    },
    {
     "data": {
      "text/html": [
       "<div>\n",
       "<style scoped>\n",
       "    .dataframe tbody tr th:only-of-type {\n",
       "        vertical-align: middle;\n",
       "    }\n",
       "\n",
       "    .dataframe tbody tr th {\n",
       "        vertical-align: top;\n",
       "    }\n",
       "\n",
       "    .dataframe thead th {\n",
       "        text-align: right;\n",
       "    }\n",
       "</style>\n",
       "<table border=\"1\" class=\"dataframe\">\n",
       "  <thead>\n",
       "    <tr style=\"text-align: right;\">\n",
       "      <th></th>\n",
       "      <th>Order #</th>\n",
       "      <th>Leg #</th>\n",
       "      <th>Start Date</th>\n",
       "      <th>Agent Office</th>\n",
       "      <th>Cust ID</th>\n",
       "      <th>Customer</th>\n",
       "      <th>Carrier ID</th>\n",
       "      <th>Carrier</th>\n",
       "      <th>Origin City</th>\n",
       "      <th>NAME</th>\n",
       "      <th>Destination City</th>\n",
       "      <th>Destination State</th>\n",
       "      <th>Brokered Revenue</th>\n",
       "      <th>Carrier Pay</th>\n",
       "      <th>Brokered Margin</th>\n",
       "      <th>Brokered Margin %</th>\n",
       "      <th>Booking Agent ID</th>\n",
       "      <th>Booking Agent</th>\n",
       "    </tr>\n",
       "  </thead>\n",
       "  <tbody>\n",
       "    <tr>\n",
       "      <th>131033</th>\n",
       "      <td>2039632</td>\n",
       "      <td>2219540</td>\n",
       "      <td>2021-04-27</td>\n",
       "      <td>1</td>\n",
       "      <td>AMNP</td>\n",
       "      <td>AMNP</td>\n",
       "      <td>155298</td>\n",
       "      <td>155298</td>\n",
       "      <td>Saint Paul</td>\n",
       "      <td>Minnesota</td>\n",
       "      <td>Bottineau</td>\n",
       "      <td>North Dakota</td>\n",
       "      <td>$1,600.00</td>\n",
       "      <td>$1,500.00</td>\n",
       "      <td>$100.00</td>\n",
       "      <td>6.25%</td>\n",
       "      <td>HERRO</td>\n",
       "      <td>4</td>\n",
       "    </tr>\n",
       "    <tr>\n",
       "      <th>142166</th>\n",
       "      <td>2069107</td>\n",
       "      <td>2258289</td>\n",
       "      <td>2020-06-19</td>\n",
       "      <td>5</td>\n",
       "      <td>CONELP</td>\n",
       "      <td>CONELP</td>\n",
       "      <td>775727</td>\n",
       "      <td>775727</td>\n",
       "      <td>Heyburn</td>\n",
       "      <td>Idaho</td>\n",
       "      <td>Council Bluffs</td>\n",
       "      <td>Iowa</td>\n",
       "      <td>$2,150.56</td>\n",
       "      <td>$1,700.00</td>\n",
       "      <td>$450.56</td>\n",
       "      <td>20.95%</td>\n",
       "      <td>MELMI</td>\n",
       "      <td>9</td>\n",
       "    </tr>\n",
       "    <tr>\n",
       "      <th>144595</th>\n",
       "      <td>2075503</td>\n",
       "      <td>2266726</td>\n",
       "      <td>2020-06-01</td>\n",
       "      <td>17</td>\n",
       "      <td>FAMMAU</td>\n",
       "      <td>FAMMAU</td>\n",
       "      <td>70282</td>\n",
       "      <td>70282</td>\n",
       "      <td>Rolesville</td>\n",
       "      <td>North Carolina</td>\n",
       "      <td>Cowpens</td>\n",
       "      <td>South Carolina</td>\n",
       "      <td>$521.74</td>\n",
       "      <td>$500.00</td>\n",
       "      <td>$21.74</td>\n",
       "      <td>4.16%</td>\n",
       "      <td>OCASO</td>\n",
       "      <td>104</td>\n",
       "    </tr>\n",
       "    <tr>\n",
       "      <th>144596</th>\n",
       "      <td>2075504</td>\n",
       "      <td>2266727</td>\n",
       "      <td>2020-06-08</td>\n",
       "      <td>17</td>\n",
       "      <td>FAMMAU</td>\n",
       "      <td>FAMMAU</td>\n",
       "      <td>70282</td>\n",
       "      <td>70282</td>\n",
       "      <td>Rolesville</td>\n",
       "      <td>North Carolina</td>\n",
       "      <td>Cowpens</td>\n",
       "      <td>South Carolina</td>\n",
       "      <td>$521.74</td>\n",
       "      <td>$500.00</td>\n",
       "      <td>$21.74</td>\n",
       "      <td>4.16%</td>\n",
       "      <td>OCASO</td>\n",
       "      <td>104</td>\n",
       "    </tr>\n",
       "    <tr>\n",
       "      <th>144598</th>\n",
       "      <td>2075506</td>\n",
       "      <td>2266729</td>\n",
       "      <td>2020-06-08</td>\n",
       "      <td>17</td>\n",
       "      <td>FAMMAU</td>\n",
       "      <td>FAMMAU</td>\n",
       "      <td>673535</td>\n",
       "      <td>673535</td>\n",
       "      <td>Rolesville</td>\n",
       "      <td>North Carolina</td>\n",
       "      <td>Cowpens</td>\n",
       "      <td>South Carolina</td>\n",
       "      <td>$-</td>\n",
       "      <td>$150.00</td>\n",
       "      <td>($150.00)</td>\n",
       "      <td>0.00%</td>\n",
       "      <td>OCASO</td>\n",
       "      <td>104</td>\n",
       "    </tr>\n",
       "    <tr>\n",
       "      <th>...</th>\n",
       "      <td>...</td>\n",
       "      <td>...</td>\n",
       "      <td>...</td>\n",
       "      <td>...</td>\n",
       "      <td>...</td>\n",
       "      <td>...</td>\n",
       "      <td>...</td>\n",
       "      <td>...</td>\n",
       "      <td>...</td>\n",
       "      <td>...</td>\n",
       "      <td>...</td>\n",
       "      <td>...</td>\n",
       "      <td>...</td>\n",
       "      <td>...</td>\n",
       "      <td>...</td>\n",
       "      <td>...</td>\n",
       "      <td>...</td>\n",
       "      <td>...</td>\n",
       "    </tr>\n",
       "    <tr>\n",
       "      <th>213739</th>\n",
       "      <td>2341809</td>\n",
       "      <td>2586585</td>\n",
       "      <td>2021-05-28</td>\n",
       "      <td>10</td>\n",
       "      <td>MONEAS</td>\n",
       "      <td>MONEAS</td>\n",
       "      <td>TX6877A</td>\n",
       "      <td>TX6877A</td>\n",
       "      <td>Houston</td>\n",
       "      <td>Texas</td>\n",
       "      <td>Houston</td>\n",
       "      <td>Texas</td>\n",
       "      <td>$1,200.00</td>\n",
       "      <td>$1,000.00</td>\n",
       "      <td>$200.00</td>\n",
       "      <td>16.66%</td>\n",
       "      <td>QUITHO</td>\n",
       "      <td>39</td>\n",
       "    </tr>\n",
       "    <tr>\n",
       "      <th>213740</th>\n",
       "      <td>2347760</td>\n",
       "      <td>2593593</td>\n",
       "      <td>2021-05-28</td>\n",
       "      <td>16</td>\n",
       "      <td>CHICHA</td>\n",
       "      <td>CHICHA</td>\n",
       "      <td>770152</td>\n",
       "      <td>770152</td>\n",
       "      <td>New Castle</td>\n",
       "      <td>Delaware</td>\n",
       "      <td>Wilmington</td>\n",
       "      <td>Delaware</td>\n",
       "      <td>$143.96</td>\n",
       "      <td>$-</td>\n",
       "      <td>$143.96</td>\n",
       "      <td>100.00%</td>\n",
       "      <td>UNKNOWN</td>\n",
       "      <td>6</td>\n",
       "    </tr>\n",
       "    <tr>\n",
       "      <th>213741</th>\n",
       "      <td>2347761</td>\n",
       "      <td>2593594</td>\n",
       "      <td>2021-05-31</td>\n",
       "      <td>16</td>\n",
       "      <td>CHICHA</td>\n",
       "      <td>CHICHA</td>\n",
       "      <td>770152</td>\n",
       "      <td>770152</td>\n",
       "      <td>New Castle</td>\n",
       "      <td>Delaware</td>\n",
       "      <td>Wilmington</td>\n",
       "      <td>Delaware</td>\n",
       "      <td>$143.96</td>\n",
       "      <td>$-</td>\n",
       "      <td>$143.96</td>\n",
       "      <td>100.00%</td>\n",
       "      <td>UNKNOWN</td>\n",
       "      <td>6</td>\n",
       "    </tr>\n",
       "    <tr>\n",
       "      <th>213742</th>\n",
       "      <td>2347762</td>\n",
       "      <td>2593595</td>\n",
       "      <td>2021-05-31</td>\n",
       "      <td>16</td>\n",
       "      <td>CHICHA</td>\n",
       "      <td>CHICHA</td>\n",
       "      <td>770152</td>\n",
       "      <td>770152</td>\n",
       "      <td>New Castle</td>\n",
       "      <td>Delaware</td>\n",
       "      <td>Wilmington</td>\n",
       "      <td>Delaware</td>\n",
       "      <td>$143.96</td>\n",
       "      <td>$-</td>\n",
       "      <td>$143.96</td>\n",
       "      <td>100.00%</td>\n",
       "      <td>UNKNOWN</td>\n",
       "      <td>6</td>\n",
       "    </tr>\n",
       "    <tr>\n",
       "      <th>213743</th>\n",
       "      <td>2347763</td>\n",
       "      <td>2593596</td>\n",
       "      <td>2021-05-31</td>\n",
       "      <td>16</td>\n",
       "      <td>CHICHA</td>\n",
       "      <td>CHICHA</td>\n",
       "      <td>770152</td>\n",
       "      <td>770152</td>\n",
       "      <td>New Castle</td>\n",
       "      <td>Delaware</td>\n",
       "      <td>Wilmington</td>\n",
       "      <td>Delaware</td>\n",
       "      <td>$143.96</td>\n",
       "      <td>$-</td>\n",
       "      <td>$143.96</td>\n",
       "      <td>100.00%</td>\n",
       "      <td>UNKNOWN</td>\n",
       "      <td>6</td>\n",
       "    </tr>\n",
       "  </tbody>\n",
       "</table>\n",
       "<p>63850 rows × 18 columns</p>\n",
       "</div>"
      ],
      "text/plain": [
       "        Order #    Leg # Start Date  Agent Office Cust ID Customer Carrier ID  \\\n",
       "131033  2039632  2219540 2021-04-27             1    AMNP     AMNP     155298   \n",
       "142166  2069107  2258289 2020-06-19             5  CONELP   CONELP     775727   \n",
       "144595  2075503  2266726 2020-06-01            17  FAMMAU   FAMMAU      70282   \n",
       "144596  2075504  2266727 2020-06-08            17  FAMMAU   FAMMAU      70282   \n",
       "144598  2075506  2266729 2020-06-08            17  FAMMAU   FAMMAU     673535   \n",
       "...         ...      ...        ...           ...     ...      ...        ...   \n",
       "213739  2341809  2586585 2021-05-28            10  MONEAS   MONEAS    TX6877A   \n",
       "213740  2347760  2593593 2021-05-28            16  CHICHA   CHICHA     770152   \n",
       "213741  2347761  2593594 2021-05-31            16  CHICHA   CHICHA     770152   \n",
       "213742  2347762  2593595 2021-05-31            16  CHICHA   CHICHA     770152   \n",
       "213743  2347763  2593596 2021-05-31            16  CHICHA   CHICHA     770152   \n",
       "\n",
       "        Carrier   Origin City            NAME  Destination City  \\\n",
       "131033   155298   Saint Paul        Minnesota        Bottineau    \n",
       "142166   775727      Heyburn            Idaho   Council Bluffs    \n",
       "144595    70282   Rolesville   North Carolina          Cowpens    \n",
       "144596    70282   Rolesville   North Carolina          Cowpens    \n",
       "144598   673535   Rolesville   North Carolina          Cowpens    \n",
       "...         ...           ...             ...               ...   \n",
       "213739  TX6877A      Houston            Texas          Houston    \n",
       "213740   770152   New Castle         Delaware       Wilmington    \n",
       "213741   770152   New Castle         Delaware       Wilmington    \n",
       "213742   770152   New Castle         Delaware       Wilmington    \n",
       "213743   770152   New Castle         Delaware       Wilmington    \n",
       "\n",
       "       Destination State Brokered Revenue Carrier Pay Brokered Margin  \\\n",
       "131033      North Dakota       $1,600.00   $1,500.00         $100.00    \n",
       "142166              Iowa       $2,150.56   $1,700.00         $450.56    \n",
       "144595    South Carolina         $521.74     $500.00          $21.74    \n",
       "144596    South Carolina         $521.74     $500.00          $21.74    \n",
       "144598    South Carolina            $-       $150.00        ($150.00)   \n",
       "...                  ...              ...         ...             ...   \n",
       "213739             Texas       $1,200.00   $1,000.00         $200.00    \n",
       "213740          Delaware         $143.96        $-           $143.96    \n",
       "213741          Delaware         $143.96        $-           $143.96    \n",
       "213742          Delaware         $143.96        $-           $143.96    \n",
       "213743          Delaware         $143.96        $-           $143.96    \n",
       "\n",
       "       Brokered Margin % Booking Agent ID  Booking Agent  \n",
       "131033             6.25%            HERRO              4  \n",
       "142166            20.95%            MELMI              9  \n",
       "144595             4.16%            OCASO            104  \n",
       "144596             4.16%            OCASO            104  \n",
       "144598             0.00%            OCASO            104  \n",
       "...                  ...              ...            ...  \n",
       "213739            16.66%           QUITHO             39  \n",
       "213740           100.00%          UNKNOWN              6  \n",
       "213741           100.00%          UNKNOWN              6  \n",
       "213742           100.00%          UNKNOWN              6  \n",
       "213743           100.00%          UNKNOWN              6  \n",
       "\n",
       "[63850 rows x 18 columns]"
      ]
     },
     "execution_count": 17,
     "metadata": {},
     "output_type": "execute_result"
    }
   ],
   "source": [
    "#filter out data prior to start date to have rolling 12 months; rename origin column to state\n",
    "filteredBroker = broker.loc[(broker['Start Date'] >= startDate)]\n",
    "filteredBroker.rename(columns = {'OriginState':'NAME'}, inplace = True)\n",
    "\n",
    "\n",
    "for col in filteredBroker.columns:\n",
    "    print(col)\n",
    "    \n",
    "filteredBroker"
   ]
  },
  {
   "cell_type": "code",
   "execution_count": 18,
   "metadata": {},
   "outputs": [],
   "source": [
    "# Variables maintained\n",
    "varis = ['Agent Office', 'Customer', 'Booking Agent','Carrier']"
   ]
  },
  {
   "cell_type": "code",
   "execution_count": 19,
   "metadata": {},
   "outputs": [
    {
     "ename": "SyntaxError",
     "evalue": "invalid character in identifier (<ipython-input-19-b771f2e504c6>, line 2)",
     "output_type": "error",
     "traceback": [
      "\u001b[0;36m  File \u001b[0;32m\"<ipython-input-19-b771f2e504c6>\"\u001b[0;36m, line \u001b[0;32m2\u001b[0m\n\u001b[0;31m    states = filteredBroker.groupby(‘NAME’)[‘varis’].count()\u001b[0m\n\u001b[0m                                         ^\u001b[0m\n\u001b[0;31mSyntaxError\u001b[0m\u001b[0;31m:\u001b[0m invalid character in identifier\n"
     ]
    }
   ],
   "source": [
    "#Group data by state\n",
    "states = filteredBroker.groupby(‘NAME’)[‘varis’].count()"
   ]
  },
  {
   "cell_type": "code",
   "execution_count": 21,
   "metadata": {},
   "outputs": [
    {
     "name": "stdout",
     "output_type": "stream",
     "text": [
      "<class 'pandas.core.frame.DataFrame'>\n",
      "Index: 48 entries, Alabama to Wyoming\n",
      "Columns: 397 entries, 3MCFOR to ZIMLYN\n",
      "dtypes: float64(397)\n",
      "memory usage: 149.2+ KB\n"
     ]
    }
   ],
   "source": [
    "#Group by customers\n",
    "types = pd.get_dummies(filteredBroker['Customer'])\n",
    "region_types = types.join(filteredBroker['NAME'])\\\n",
    "                  .groupby('NAME')\\\n",
    "                  .sum()\n",
    "region_types_pct = (region_types * 100.).div(region_types.sum(axis=1), axis=0)\n",
    "region_types_pct.info()"
   ]
  },
  {
   "cell_type": "code",
   "execution_count": 22,
   "metadata": {},
   "outputs": [
    {
     "ename": "NameError",
     "evalue": "name 'states' is not defined",
     "output_type": "error",
     "traceback": [
      "\u001b[0;31m---------------------------------------------------------------------------\u001b[0m",
      "\u001b[0;31mNameError\u001b[0m                                 Traceback (most recent call last)",
      "\u001b[0;32m<ipython-input-22-144e806adc80>\u001b[0m in \u001b[0;36m<module>\u001b[0;34m\u001b[0m\n\u001b[0;32m----> 1\u001b[0;31m \u001b[0mregion_props\u001b[0m \u001b[0;34m=\u001b[0m \u001b[0mstates\u001b[0m\u001b[0;34m.\u001b[0m\u001b[0mjoin\u001b[0m\u001b[0;34m(\u001b[0m\u001b[0mregion_types_pct\u001b[0m\u001b[0;34m)\u001b[0m\u001b[0;34m\u001b[0m\u001b[0;34m\u001b[0m\u001b[0m\n\u001b[0m",
      "\u001b[0;31mNameError\u001b[0m: name 'states' is not defined"
     ]
    }
   ],
   "source": [
    "region_props = states.join(region_types_pct)"
   ]
  },
  {
   "cell_type": "code",
   "execution_count": 23,
   "metadata": {},
   "outputs": [
    {
     "ename": "NameError",
     "evalue": "name 'region_props' is not defined",
     "output_type": "error",
     "traceback": [
      "\u001b[0;31m---------------------------------------------------------------------------\u001b[0m",
      "\u001b[0;31mNameError\u001b[0m                                 Traceback (most recent call last)",
      "\u001b[0;32m<ipython-input-23-8f61759a4e93>\u001b[0m in \u001b[0;36m<module>\u001b[0;34m\u001b[0m\n\u001b[1;32m      1\u001b[0m \u001b[0;31m#Scale\u001b[0m\u001b[0;34m\u001b[0m\u001b[0;34m\u001b[0m\u001b[0;34m\u001b[0m\u001b[0m\n\u001b[1;32m      2\u001b[0m db = pd.DataFrame(\\\n\u001b[0;32m----> 3\u001b[0;31m                  \u001b[0mscale\u001b[0m\u001b[0;34m(\u001b[0m\u001b[0mregion_props\u001b[0m\u001b[0;34m)\u001b[0m\u001b[0;34m,\u001b[0m\u001b[0;31m \u001b[0m\u001b[0;31m\\\u001b[0m\u001b[0;34m\u001b[0m\u001b[0;34m\u001b[0m\u001b[0m\n\u001b[0m\u001b[1;32m      4\u001b[0m                  \u001b[0mindex\u001b[0m\u001b[0;34m=\u001b[0m\u001b[0mregion_props\u001b[0m\u001b[0;34m.\u001b[0m\u001b[0mindex\u001b[0m\u001b[0;34m,\u001b[0m\u001b[0;31m \u001b[0m\u001b[0;31m\\\u001b[0m\u001b[0;34m\u001b[0m\u001b[0;34m\u001b[0m\u001b[0m\n\u001b[1;32m      5\u001b[0m                  columns=region_props.columns)\\\n",
      "\u001b[0;31mNameError\u001b[0m: name 'region_props' is not defined"
     ]
    }
   ],
   "source": [
    "#Scale \n",
    "db = pd.DataFrame(\\\n",
    "                 scale(region_props), \\\n",
    "                 index=region_props.index, \\\n",
    "                 columns=region_props.columns)\\\n",
    "       .rename(lambda x: str(int(x)))"
   ]
  },
  {
   "cell_type": "code",
   "execution_count": 24,
   "metadata": {},
   "outputs": [
    {
     "data": {
      "image/png": "[encoded data removed]",
      "text/plain": [
       "<Figure size 432x288 with 1 Axes>"
      ]
     },
     "metadata": {},
     "output_type": "display_data"
    }
   ],
   "source": [
    "# bring in geojson dataframe\n",
    "usMap = gpd.read_file(coord)\n",
    "usMap.plot(color='red');"
   ]
  },
  {
   "cell_type": "code",
   "execution_count": 28,
   "metadata": {},
   "outputs": [
    {
     "ename": "NameError",
     "evalue": "name 'db' is not defined",
     "output_type": "error",
     "traceback": [
      "\u001b[0;31m---------------------------------------------------------------------------\u001b[0m",
      "\u001b[0;31mNameError\u001b[0m                                 Traceback (most recent call last)",
      "\u001b[0;32m<ipython-input-28-b2b298f56d43>\u001b[0m in \u001b[0;36m<module>\u001b[0;34m\u001b[0m\n\u001b[1;32m      1\u001b[0m \u001b[0;31m# match geojson dataframe and broker_data on 'state'\u001b[0m\u001b[0;34m\u001b[0m\u001b[0;34m\u001b[0m\u001b[0;34m\u001b[0m\u001b[0m\n\u001b[0;32m----> 2\u001b[0;31m \u001b[0mstatedb\u001b[0m \u001b[0;34m=\u001b[0m \u001b[0musMap\u001b[0m\u001b[0;34m[\u001b[0m\u001b[0;34m[\u001b[0m\u001b[0;34m'geometry'\u001b[0m\u001b[0;34m,\u001b[0m \u001b[0;34m'STATE'\u001b[0m\u001b[0;34m,\u001b[0m \u001b[0;34m'NAME'\u001b[0m\u001b[0;34m]\u001b[0m\u001b[0;34m]\u001b[0m\u001b[0;34m.\u001b[0m\u001b[0mjoin\u001b[0m\u001b[0;34m(\u001b[0m\u001b[0mdb\u001b[0m\u001b[0;34m,\u001b[0m \u001b[0mon\u001b[0m\u001b[0;34m=\u001b[0m\u001b[0;34m'NAME'\u001b[0m\u001b[0;34m)\u001b[0m\u001b[0;31m\\\u001b[0m\u001b[0;34m\u001b[0m\u001b[0;34m\u001b[0m\u001b[0m\n\u001b[0m\u001b[1;32m      3\u001b[0m                                          \u001b[0;34m.\u001b[0m\u001b[0mdropna\u001b[0m\u001b[0;34m(\u001b[0m\u001b[0;34m)\u001b[0m\u001b[0;34m\u001b[0m\u001b[0;34m\u001b[0m\u001b[0m\n",
      "\u001b[0;31mNameError\u001b[0m: name 'db' is not defined"
     ]
    }
   ],
   "source": [
    "# match geojson dataframe and broker_data on 'state'\n",
    "statedb = usMap[['geometry', 'STATE', 'NAME']].join(db, on='NAME')\\\n",
    "                                         .dropna()"
   ]
  },
  {
   "cell_type": "code",
   "execution_count": 29,
   "metadata": {},
   "outputs": [],
   "source": [
    "#Cluster in specfic groups\n",
    "km5 = cluster.KMeans(n_clusters=5)"
   ]
  },
  {
   "cell_type": "code",
   "execution_count": 30,
   "metadata": {},
   "outputs": [
    {
     "ename": "NameError",
     "evalue": "name 'statedb' is not defined",
     "output_type": "error",
     "traceback": [
      "\u001b[0;31m---------------------------------------------------------------------------\u001b[0m",
      "\u001b[0;31mNameError\u001b[0m                                 Traceback (most recent call last)",
      "\u001b[0;32m<ipython-input-30-42d23da1c49a>\u001b[0m in \u001b[0;36m<module>\u001b[0;34m\u001b[0m\n\u001b[1;32m      1\u001b[0m \u001b[0;31m# Fit to data\u001b[0m\u001b[0;34m\u001b[0m\u001b[0;34m\u001b[0m\u001b[0;34m\u001b[0m\u001b[0m\n\u001b[0;32m----> 2\u001b[0;31m \u001b[0mkm5cls\u001b[0m \u001b[0;34m=\u001b[0m \u001b[0mkm5\u001b[0m\u001b[0;34m.\u001b[0m\u001b[0mfit\u001b[0m\u001b[0;34m(\u001b[0m\u001b[0mstatedb\u001b[0m\u001b[0;34m.\u001b[0m\u001b[0mdrop\u001b[0m\u001b[0;34m(\u001b[0m\u001b[0;34m[\u001b[0m\u001b[0;34m'geometry'\u001b[0m\u001b[0;34m,\u001b[0m \u001b[0;34m'NAME'\u001b[0m\u001b[0;34m]\u001b[0m\u001b[0;34m,\u001b[0m \u001b[0maxis\u001b[0m\u001b[0;34m=\u001b[0m\u001b[0;36m1\u001b[0m\u001b[0;34m)\u001b[0m\u001b[0;34m.\u001b[0m\u001b[0mvalues\u001b[0m\u001b[0;34m)\u001b[0m\u001b[0;34m\u001b[0m\u001b[0;34m\u001b[0m\u001b[0m\n\u001b[0m",
      "\u001b[0;31mNameError\u001b[0m: name 'statedb' is not defined"
     ]
    }
   ],
   "source": [
    "# Fit to data\n",
    "km5cls = km5.fit(statedb.drop(['geometry', 'NAME'], axis=1).values)"
   ]
  },
  {
   "cell_type": "code",
   "execution_count": 31,
   "metadata": {},
   "outputs": [
    {
     "ename": "NameError",
     "evalue": "name 'statedb' is not defined",
     "output_type": "error",
     "traceback": [
      "\u001b[0;31m---------------------------------------------------------------------------\u001b[0m",
      "\u001b[0;31mNameError\u001b[0m                                 Traceback (most recent call last)",
      "\u001b[0;32m<ipython-input-31-32953f55deee>\u001b[0m in \u001b[0;36m<module>\u001b[0;34m\u001b[0m\n\u001b[1;32m      2\u001b[0m \u001b[0mf\u001b[0m\u001b[0;34m,\u001b[0m \u001b[0max\u001b[0m \u001b[0;34m=\u001b[0m \u001b[0mplt\u001b[0m\u001b[0;34m.\u001b[0m\u001b[0msubplots\u001b[0m\u001b[0;34m(\u001b[0m\u001b[0;36m1\u001b[0m\u001b[0;34m,\u001b[0m \u001b[0mfigsize\u001b[0m\u001b[0;34m=\u001b[0m\u001b[0;34m(\u001b[0m\u001b[0;36m9\u001b[0m\u001b[0;34m,\u001b[0m \u001b[0;36m9\u001b[0m\u001b[0;34m)\u001b[0m\u001b[0;34m)\u001b[0m\u001b[0;34m\u001b[0m\u001b[0;34m\u001b[0m\u001b[0m\n\u001b[1;32m      3\u001b[0m \u001b[0;34m\u001b[0m\u001b[0m\n\u001b[0;32m----> 4\u001b[0;31m \u001b[0mstatedb\u001b[0m\u001b[0;34m.\u001b[0m\u001b[0massign\u001b[0m\u001b[0;34m(\u001b[0m\u001b[0mcl\u001b[0m\u001b[0;34m=\u001b[0m\u001b[0mkm5cls\u001b[0m\u001b[0;34m.\u001b[0m\u001b[0mlabels_\u001b[0m\u001b[0;34m)\u001b[0m\u001b[0;31m\\\u001b[0m\u001b[0;34m\u001b[0m\u001b[0;34m\u001b[0m\u001b[0m\n\u001b[0m\u001b[1;32m      5\u001b[0m    .plot(column='cl', categorical=True, legend=True, \\\n\u001b[1;32m      6\u001b[0m          linewidth=0.1, edgecolor='white', ax=ax)\n",
      "\u001b[0;31mNameError\u001b[0m: name 'statedb' is not defined"
     ]
    },
    {
     "data": {
      "image/png": "[encoded data removed]",
      "text/plain": [
       "<Figure size 648x648 with 1 Axes>"
      ]
     },
     "metadata": {},
     "output_type": "display_data"
    }
   ],
   "source": [
    "# Map clusters\n",
    "f, ax = plt.subplots(1, figsize=(9, 9))\n",
    "\n",
    "statedb.assign(cl=km5cls.labels_)\\\n",
    "   .plot(column='cl', categorical=True, legend=True, \\\n",
    "         linewidth=0.1, edgecolor='white', ax=ax)\n",
    "\n",
    "ax.set_axis_off()\n",
    "\n",
    "plt.show()"
   ]
  },
  {
   "cell_type": "code",
   "execution_count": 32,
   "metadata": {},
   "outputs": [
    {
     "ename": "ValueError",
     "evalue": "invalid literal for int() with base 10: 'Alabama'",
     "output_type": "error",
     "traceback": [
      "\u001b[0;31m---------------------------------------------------------------------------\u001b[0m",
      "\u001b[0;31mValueError\u001b[0m                                Traceback (most recent call last)",
      "\u001b[0;32m<ipython-input-32-a4f670a0faf3>\u001b[0m in \u001b[0;36m<module>\u001b[0;34m\u001b[0m\n\u001b[1;32m      1\u001b[0m \u001b[0;31m# Attributes\u001b[0m\u001b[0;34m\u001b[0m\u001b[0;34m\u001b[0m\u001b[0;34m\u001b[0m\u001b[0m\n\u001b[0;32m----> 2\u001b[0;31m \u001b[0mcl_pcts\u001b[0m \u001b[0;34m=\u001b[0m \u001b[0mregion_types_pct\u001b[0m\u001b[0;34m.\u001b[0m\u001b[0mrename\u001b[0m\u001b[0;34m(\u001b[0m\u001b[0;32mlambda\u001b[0m \u001b[0mx\u001b[0m\u001b[0;34m:\u001b[0m \u001b[0mstr\u001b[0m\u001b[0;34m(\u001b[0m\u001b[0mint\u001b[0m\u001b[0;34m(\u001b[0m\u001b[0mx\u001b[0m\u001b[0;34m)\u001b[0m\u001b[0;34m)\u001b[0m\u001b[0;34m)\u001b[0m\u001b[0;31m\\\u001b[0m\u001b[0;34m\u001b[0m\u001b[0;34m\u001b[0m\u001b[0m\n\u001b[0m\u001b[1;32m      3\u001b[0m                           \u001b[0;34m.\u001b[0m\u001b[0mreindex\u001b[0m\u001b[0;34m(\u001b[0m\u001b[0mstatedb\u001b[0m\u001b[0;34m[\u001b[0m\u001b[0;34m'NAME'\u001b[0m\u001b[0;34m]\u001b[0m\u001b[0;34m)\u001b[0m\u001b[0;31m\\\u001b[0m\u001b[0;34m\u001b[0m\u001b[0;34m\u001b[0m\u001b[0m\n\u001b[1;32m      4\u001b[0m                           \u001b[0;34m.\u001b[0m\u001b[0massign\u001b[0m\u001b[0;34m(\u001b[0m\u001b[0mcl\u001b[0m\u001b[0;34m=\u001b[0m\u001b[0mkm5cls\u001b[0m\u001b[0;34m.\u001b[0m\u001b[0mlabels_\u001b[0m\u001b[0;34m)\u001b[0m\u001b[0;31m\\\u001b[0m\u001b[0;34m\u001b[0m\u001b[0;34m\u001b[0m\u001b[0m\n\u001b[1;32m      5\u001b[0m                           \u001b[0;34m.\u001b[0m\u001b[0mgroupby\u001b[0m\u001b[0;34m(\u001b[0m\u001b[0;34m'cl'\u001b[0m\u001b[0;34m)\u001b[0m\u001b[0;31m\\\u001b[0m\u001b[0;34m\u001b[0m\u001b[0;34m\u001b[0m\u001b[0m\n",
      "\u001b[0;32m~/opt/anaconda3/lib/python3.8/site-packages/pandas/util/_decorators.py\u001b[0m in \u001b[0;36mwrapper\u001b[0;34m(*args, **kwargs)\u001b[0m\n\u001b[1;32m    307\u001b[0m         \u001b[0;34m@\u001b[0m\u001b[0mwraps\u001b[0m\u001b[0;34m(\u001b[0m\u001b[0mfunc\u001b[0m\u001b[0;34m)\u001b[0m\u001b[0;34m\u001b[0m\u001b[0;34m\u001b[0m\u001b[0m\n\u001b[1;32m    308\u001b[0m         \u001b[0;32mdef\u001b[0m \u001b[0mwrapper\u001b[0m\u001b[0;34m(\u001b[0m\u001b[0;34m*\u001b[0m\u001b[0margs\u001b[0m\u001b[0;34m,\u001b[0m \u001b[0;34m**\u001b[0m\u001b[0mkwargs\u001b[0m\u001b[0;34m)\u001b[0m \u001b[0;34m->\u001b[0m \u001b[0mCallable\u001b[0m\u001b[0;34m[\u001b[0m\u001b[0;34m...\u001b[0m\u001b[0;34m,\u001b[0m \u001b[0mAny\u001b[0m\u001b[0;34m]\u001b[0m\u001b[0;34m:\u001b[0m\u001b[0;34m\u001b[0m\u001b[0;34m\u001b[0m\u001b[0m\n\u001b[0;32m--> 309\u001b[0;31m             \u001b[0;32mreturn\u001b[0m \u001b[0mfunc\u001b[0m\u001b[0;34m(\u001b[0m\u001b[0;34m*\u001b[0m\u001b[0margs\u001b[0m\u001b[0;34m,\u001b[0m \u001b[0;34m**\u001b[0m\u001b[0mkwargs\u001b[0m\u001b[0;34m)\u001b[0m\u001b[0;34m\u001b[0m\u001b[0;34m\u001b[0m\u001b[0m\n\u001b[0m\u001b[1;32m    310\u001b[0m \u001b[0;34m\u001b[0m\u001b[0m\n\u001b[1;32m    311\u001b[0m         \u001b[0mkind\u001b[0m \u001b[0;34m=\u001b[0m \u001b[0minspect\u001b[0m\u001b[0;34m.\u001b[0m\u001b[0mParameter\u001b[0m\u001b[0;34m.\u001b[0m\u001b[0mPOSITIONAL_OR_KEYWORD\u001b[0m\u001b[0;34m\u001b[0m\u001b[0;34m\u001b[0m\u001b[0m\n",
      "\u001b[0;32m~/opt/anaconda3/lib/python3.8/site-packages/pandas/core/frame.py\u001b[0m in \u001b[0;36mrename\u001b[0;34m(self, mapper, index, columns, axis, copy, inplace, level, errors)\u001b[0m\n\u001b[1;32m   4294\u001b[0m         \u001b[0;36m4\u001b[0m  \u001b[0;36m3\u001b[0m  \u001b[0;36m6\u001b[0m\u001b[0;34m\u001b[0m\u001b[0;34m\u001b[0m\u001b[0m\n\u001b[1;32m   4295\u001b[0m         \"\"\"\n\u001b[0;32m-> 4296\u001b[0;31m         return super().rename(\n\u001b[0m\u001b[1;32m   4297\u001b[0m             \u001b[0mmapper\u001b[0m\u001b[0;34m=\u001b[0m\u001b[0mmapper\u001b[0m\u001b[0;34m,\u001b[0m\u001b[0;34m\u001b[0m\u001b[0;34m\u001b[0m\u001b[0m\n\u001b[1;32m   4298\u001b[0m             \u001b[0mindex\u001b[0m\u001b[0;34m=\u001b[0m\u001b[0mindex\u001b[0m\u001b[0;34m,\u001b[0m\u001b[0;34m\u001b[0m\u001b[0;34m\u001b[0m\u001b[0m\n",
      "\u001b[0;32m~/opt/anaconda3/lib/python3.8/site-packages/pandas/core/generic.py\u001b[0m in \u001b[0;36mrename\u001b[0;34m(self, mapper, index, columns, axis, copy, inplace, level, errors)\u001b[0m\n\u001b[1;32m    945\u001b[0m                     \u001b[0;32mraise\u001b[0m \u001b[0mKeyError\u001b[0m\u001b[0;34m(\u001b[0m\u001b[0;34mf\"{missing_labels} not found in axis\"\u001b[0m\u001b[0;34m)\u001b[0m\u001b[0;34m\u001b[0m\u001b[0;34m\u001b[0m\u001b[0m\n\u001b[1;32m    946\u001b[0m \u001b[0;34m\u001b[0m\u001b[0m\n\u001b[0;32m--> 947\u001b[0;31m             \u001b[0mnew_index\u001b[0m \u001b[0;34m=\u001b[0m \u001b[0max\u001b[0m\u001b[0;34m.\u001b[0m\u001b[0m_transform_index\u001b[0m\u001b[0;34m(\u001b[0m\u001b[0mf\u001b[0m\u001b[0;34m,\u001b[0m \u001b[0mlevel\u001b[0m\u001b[0;34m)\u001b[0m\u001b[0;34m\u001b[0m\u001b[0;34m\u001b[0m\u001b[0m\n\u001b[0m\u001b[1;32m    948\u001b[0m             \u001b[0mresult\u001b[0m\u001b[0;34m.\u001b[0m\u001b[0mset_axis\u001b[0m\u001b[0;34m(\u001b[0m\u001b[0mnew_index\u001b[0m\u001b[0;34m,\u001b[0m \u001b[0maxis\u001b[0m\u001b[0;34m=\u001b[0m\u001b[0maxis_no\u001b[0m\u001b[0;34m,\u001b[0m \u001b[0minplace\u001b[0m\u001b[0;34m=\u001b[0m\u001b[0;32mTrue\u001b[0m\u001b[0;34m)\u001b[0m\u001b[0;34m\u001b[0m\u001b[0;34m\u001b[0m\u001b[0m\n\u001b[1;32m    949\u001b[0m             \u001b[0mresult\u001b[0m\u001b[0;34m.\u001b[0m\u001b[0m_clear_item_cache\u001b[0m\u001b[0;34m(\u001b[0m\u001b[0;34m)\u001b[0m\u001b[0;34m\u001b[0m\u001b[0;34m\u001b[0m\u001b[0m\n",
      "\u001b[0;32m~/opt/anaconda3/lib/python3.8/site-packages/pandas/core/indexes/base.py\u001b[0m in \u001b[0;36m_transform_index\u001b[0;34m(self, func, level)\u001b[0m\n\u001b[1;32m   4831\u001b[0m             \u001b[0;32mreturn\u001b[0m \u001b[0mtype\u001b[0m\u001b[0;34m(\u001b[0m\u001b[0mself\u001b[0m\u001b[0;34m)\u001b[0m\u001b[0;34m.\u001b[0m\u001b[0mfrom_tuples\u001b[0m\u001b[0;34m(\u001b[0m\u001b[0mitems\u001b[0m\u001b[0;34m,\u001b[0m \u001b[0mnames\u001b[0m\u001b[0;34m=\u001b[0m\u001b[0mself\u001b[0m\u001b[0;34m.\u001b[0m\u001b[0mnames\u001b[0m\u001b[0;34m)\u001b[0m\u001b[0;34m\u001b[0m\u001b[0;34m\u001b[0m\u001b[0m\n\u001b[1;32m   4832\u001b[0m         \u001b[0;32melse\u001b[0m\u001b[0;34m:\u001b[0m\u001b[0;34m\u001b[0m\u001b[0;34m\u001b[0m\u001b[0m\n\u001b[0;32m-> 4833\u001b[0;31m             \u001b[0mitems\u001b[0m \u001b[0;34m=\u001b[0m \u001b[0;34m[\u001b[0m\u001b[0mfunc\u001b[0m\u001b[0;34m(\u001b[0m\u001b[0mx\u001b[0m\u001b[0;34m)\u001b[0m \u001b[0;32mfor\u001b[0m \u001b[0mx\u001b[0m \u001b[0;32min\u001b[0m \u001b[0mself\u001b[0m\u001b[0;34m]\u001b[0m\u001b[0;34m\u001b[0m\u001b[0;34m\u001b[0m\u001b[0m\n\u001b[0m\u001b[1;32m   4834\u001b[0m             \u001b[0;32mreturn\u001b[0m \u001b[0mIndex\u001b[0m\u001b[0;34m(\u001b[0m\u001b[0mitems\u001b[0m\u001b[0;34m,\u001b[0m \u001b[0mname\u001b[0m\u001b[0;34m=\u001b[0m\u001b[0mself\u001b[0m\u001b[0;34m.\u001b[0m\u001b[0mname\u001b[0m\u001b[0;34m,\u001b[0m \u001b[0mtupleize_cols\u001b[0m\u001b[0;34m=\u001b[0m\u001b[0;32mFalse\u001b[0m\u001b[0;34m)\u001b[0m\u001b[0;34m\u001b[0m\u001b[0;34m\u001b[0m\u001b[0m\n\u001b[1;32m   4835\u001b[0m \u001b[0;34m\u001b[0m\u001b[0m\n",
      "\u001b[0;32m~/opt/anaconda3/lib/python3.8/site-packages/pandas/core/indexes/base.py\u001b[0m in \u001b[0;36m<listcomp>\u001b[0;34m(.0)\u001b[0m\n\u001b[1;32m   4831\u001b[0m             \u001b[0;32mreturn\u001b[0m \u001b[0mtype\u001b[0m\u001b[0;34m(\u001b[0m\u001b[0mself\u001b[0m\u001b[0;34m)\u001b[0m\u001b[0;34m.\u001b[0m\u001b[0mfrom_tuples\u001b[0m\u001b[0;34m(\u001b[0m\u001b[0mitems\u001b[0m\u001b[0;34m,\u001b[0m \u001b[0mnames\u001b[0m\u001b[0;34m=\u001b[0m\u001b[0mself\u001b[0m\u001b[0;34m.\u001b[0m\u001b[0mnames\u001b[0m\u001b[0;34m)\u001b[0m\u001b[0;34m\u001b[0m\u001b[0;34m\u001b[0m\u001b[0m\n\u001b[1;32m   4832\u001b[0m         \u001b[0;32melse\u001b[0m\u001b[0;34m:\u001b[0m\u001b[0;34m\u001b[0m\u001b[0;34m\u001b[0m\u001b[0m\n\u001b[0;32m-> 4833\u001b[0;31m             \u001b[0mitems\u001b[0m \u001b[0;34m=\u001b[0m \u001b[0;34m[\u001b[0m\u001b[0mfunc\u001b[0m\u001b[0;34m(\u001b[0m\u001b[0mx\u001b[0m\u001b[0;34m)\u001b[0m \u001b[0;32mfor\u001b[0m \u001b[0mx\u001b[0m \u001b[0;32min\u001b[0m \u001b[0mself\u001b[0m\u001b[0;34m]\u001b[0m\u001b[0;34m\u001b[0m\u001b[0;34m\u001b[0m\u001b[0m\n\u001b[0m\u001b[1;32m   4834\u001b[0m             \u001b[0;32mreturn\u001b[0m \u001b[0mIndex\u001b[0m\u001b[0;34m(\u001b[0m\u001b[0mitems\u001b[0m\u001b[0;34m,\u001b[0m \u001b[0mname\u001b[0m\u001b[0;34m=\u001b[0m\u001b[0mself\u001b[0m\u001b[0;34m.\u001b[0m\u001b[0mname\u001b[0m\u001b[0;34m,\u001b[0m \u001b[0mtupleize_cols\u001b[0m\u001b[0;34m=\u001b[0m\u001b[0;32mFalse\u001b[0m\u001b[0;34m)\u001b[0m\u001b[0;34m\u001b[0m\u001b[0;34m\u001b[0m\u001b[0m\n\u001b[1;32m   4835\u001b[0m \u001b[0;34m\u001b[0m\u001b[0m\n",
      "\u001b[0;32m<ipython-input-32-a4f670a0faf3>\u001b[0m in \u001b[0;36m<lambda>\u001b[0;34m(x)\u001b[0m\n\u001b[1;32m      1\u001b[0m \u001b[0;31m# Attributes\u001b[0m\u001b[0;34m\u001b[0m\u001b[0;34m\u001b[0m\u001b[0;34m\u001b[0m\u001b[0m\n\u001b[0;32m----> 2\u001b[0;31m \u001b[0mcl_pcts\u001b[0m \u001b[0;34m=\u001b[0m \u001b[0mregion_types_pct\u001b[0m\u001b[0;34m.\u001b[0m\u001b[0mrename\u001b[0m\u001b[0;34m(\u001b[0m\u001b[0;32mlambda\u001b[0m \u001b[0mx\u001b[0m\u001b[0;34m:\u001b[0m \u001b[0mstr\u001b[0m\u001b[0;34m(\u001b[0m\u001b[0mint\u001b[0m\u001b[0;34m(\u001b[0m\u001b[0mx\u001b[0m\u001b[0;34m)\u001b[0m\u001b[0;34m)\u001b[0m\u001b[0;34m)\u001b[0m\u001b[0;31m\\\u001b[0m\u001b[0;34m\u001b[0m\u001b[0;34m\u001b[0m\u001b[0m\n\u001b[0m\u001b[1;32m      3\u001b[0m                           \u001b[0;34m.\u001b[0m\u001b[0mreindex\u001b[0m\u001b[0;34m(\u001b[0m\u001b[0mstatedb\u001b[0m\u001b[0;34m[\u001b[0m\u001b[0;34m'NAME'\u001b[0m\u001b[0;34m]\u001b[0m\u001b[0;34m)\u001b[0m\u001b[0;31m\\\u001b[0m\u001b[0;34m\u001b[0m\u001b[0;34m\u001b[0m\u001b[0m\n\u001b[1;32m      4\u001b[0m                           \u001b[0;34m.\u001b[0m\u001b[0massign\u001b[0m\u001b[0;34m(\u001b[0m\u001b[0mcl\u001b[0m\u001b[0;34m=\u001b[0m\u001b[0mkm5cls\u001b[0m\u001b[0;34m.\u001b[0m\u001b[0mlabels_\u001b[0m\u001b[0;34m)\u001b[0m\u001b[0;31m\\\u001b[0m\u001b[0;34m\u001b[0m\u001b[0;34m\u001b[0m\u001b[0m\n\u001b[1;32m      5\u001b[0m                           \u001b[0;34m.\u001b[0m\u001b[0mgroupby\u001b[0m\u001b[0;34m(\u001b[0m\u001b[0;34m'cl'\u001b[0m\u001b[0;34m)\u001b[0m\u001b[0;31m\\\u001b[0m\u001b[0;34m\u001b[0m\u001b[0;34m\u001b[0m\u001b[0m\n",
      "\u001b[0;31mValueError\u001b[0m: invalid literal for int() with base 10: 'Alabama'"
     ]
    }
   ],
   "source": [
    "# Attributes\n",
    "cl_pcts = region_types_pct.rename(lambda x: str(int(x)))\\\n",
    "                          .reindex(statedb['NAME'])\\\n",
    "                          .assign(cl=km5cls.labels_)\\\n",
    "                          .groupby('cl')\\\n",
    "                          .mean()"
   ]
  },
  {
   "cell_type": "code",
   "execution_count": 132,
   "metadata": {},
   "outputs": [
    {
     "ename": "NameError",
     "evalue": "name 'cl_pcts' is not defined",
     "output_type": "error",
     "traceback": [
      "\u001b[0;31m---------------------------------------------------------------------------\u001b[0m",
      "\u001b[0;31mNameError\u001b[0m                                 Traceback (most recent call last)",
      "\u001b[0;32m<ipython-input-132-bdda5e6e87bb>\u001b[0m in \u001b[0;36m<module>\u001b[0;34m\u001b[0m\n\u001b[1;32m      1\u001b[0m \u001b[0;31m#Visualize attributes and mix\u001b[0m\u001b[0;34m\u001b[0m\u001b[0;34m\u001b[0m\u001b[0;34m\u001b[0m\u001b[0m\n\u001b[1;32m      2\u001b[0m \u001b[0mf\u001b[0m\u001b[0;34m,\u001b[0m \u001b[0max\u001b[0m \u001b[0;34m=\u001b[0m \u001b[0mplt\u001b[0m\u001b[0;34m.\u001b[0m\u001b[0msubplots\u001b[0m\u001b[0;34m(\u001b[0m\u001b[0;36m1\u001b[0m\u001b[0;34m,\u001b[0m \u001b[0mfigsize\u001b[0m\u001b[0;34m=\u001b[0m\u001b[0;34m(\u001b[0m\u001b[0;36m18\u001b[0m\u001b[0;34m,\u001b[0m \u001b[0;36m9\u001b[0m\u001b[0;34m)\u001b[0m\u001b[0;34m)\u001b[0m\u001b[0;34m\u001b[0m\u001b[0;34m\u001b[0m\u001b[0m\n\u001b[0;32m----> 3\u001b[0;31m cl_pcts.plot(kind='barh', stacked=True, ax=ax, \\\n\u001b[0m\u001b[1;32m      4\u001b[0m              cmap='Set2', linewidth=0)\n\u001b[1;32m      5\u001b[0m \u001b[0max\u001b[0m\u001b[0;34m.\u001b[0m\u001b[0mlegend\u001b[0m\u001b[0;34m(\u001b[0m\u001b[0mncol\u001b[0m\u001b[0;34m=\u001b[0m\u001b[0;36m1\u001b[0m\u001b[0;34m,\u001b[0m \u001b[0mloc\u001b[0m\u001b[0;34m=\u001b[0m\u001b[0;34m\"right\"\u001b[0m\u001b[0;34m)\u001b[0m\u001b[0;34m;\u001b[0m\u001b[0;34m\u001b[0m\u001b[0;34m\u001b[0m\u001b[0m\n",
      "\u001b[0;31mNameError\u001b[0m: name 'cl_pcts' is not defined"
     ]
    },
    {
     "data": {
      "image/png": "[encoded data removed]",
      "text/plain": [
       "<Figure size 1296x648 with 1 Axes>"
      ]
     },
     "metadata": {},
     "output_type": "display_data"
    }
   ],
   "source": [
    "#Visualize attributes and mix\n",
    "f, ax = plt.subplots(1, figsize=(18, 9))\n",
    "cl_pcts.plot(kind='barh', stacked=True, ax=ax, \\\n",
    "             cmap='Set2', linewidth=0)\n",
    "ax.legend(ncol=1, loc=\"right\");"
   ]
  },
  {
   "cell_type": "code",
   "execution_count": null,
   "metadata": {},
   "outputs": [],
   "source": []
  },
  {
   "cell_type": "code",
   "execution_count": null,
   "metadata": {},
   "outputs": [],
   "source": []
  },
  {
   "cell_type": "code",
   "execution_count": null,
   "metadata": {},
   "outputs": [],
   "source": []
  },
  {
   "cell_type": "code",
   "execution_count": null,
   "metadata": {},
   "outputs": [],
   "source": []
  },
  {
   "cell_type": "code",
   "execution_count": null,
   "metadata": {},
   "outputs": [],
   "source": []
  }
 ],
 "metadata": {
  "kernelspec": {
   "display_name": "Python 3",
   "language": "python",
   "name": "python3"
  },
  "language_info": {
   "codemirror_mode": {
    "name": "ipython",
    "version": 3
   },
   "file_extension": ".py",
   "mimetype": "text/x-python",
   "name": "python",
   "nbconvert_exporter": "python",
   "pygments_lexer": "ipython3",
   "version": "3.8.5"
  },
  "varInspector": {
   "cols": {
    "lenName": 16,
    "lenType": 16,
    "lenVar": 40
   },
   "kernels_config": {
    "python": {
     "delete_cmd_postfix": "",
     "delete_cmd_prefix": "del ",
     "library": "var_list.py",
     "varRefreshCmd": "print(var_dic_list())"
    },
    "r": {
     "delete_cmd_postfix": ") ",
     "delete_cmd_prefix": "rm(",
     "library": "var_list.r",
     "varRefreshCmd": "cat(var_dic_list()) "
    }
   },
   "types_to_exclude": [
    "module",
    "function",
    "builtin_function_or_method",
    "instance",
    "_Feature"
   ],
   "window_display": false
  }
 },
 "nbformat": 4,
 "nbformat_minor": 4
}
